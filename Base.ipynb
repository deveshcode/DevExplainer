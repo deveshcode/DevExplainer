{
 "cells": [
  {
   "cell_type": "code",
   "execution_count": 1,
   "id": "c92a8144-3719-4bf6-8025-69cf02772b38",
   "metadata": {},
   "outputs": [
    {
     "name": "stderr",
     "output_type": "stream",
     "text": [
      "/opt/conda/lib/python3.6/site-packages/requests/__init__.py:91: RequestsDependencyWarning: urllib3 (1.26.5) or chardet (3.0.4) doesn't match a supported version!\n",
      "  RequestsDependencyWarning)\n"
     ]
    },
    {
     "data": {
      "text/plain": [
       "GradientBoostingRegressor(alpha=0.9, criterion='friedman_mse', init=None,\n",
       "                          learning_rate=0.1, loss='ls', max_depth=3,\n",
       "                          max_features=None, max_leaf_nodes=None,\n",
       "                          min_impurity_decrease=0.0, min_impurity_split=None,\n",
       "                          min_samples_leaf=1, min_samples_split=2,\n",
       "                          min_weight_fraction_leaf=0.0, n_estimators=100,\n",
       "                          n_iter_no_change=None, presort='auto',\n",
       "                          random_state=None, subsample=1.0, tol=0.0001,\n",
       "                          validation_fraction=0.1, verbose=0, warm_start=False)"
      ]
     },
     "execution_count": 1,
     "metadata": {},
     "output_type": "execute_result"
    }
   ],
   "source": [
    "# first we shall create a sample model \n",
    "\n",
    "from Models.fifa_model_generation import get_fifa_model\n",
    "\n",
    "# the function returns a trained fifa model\n",
    "model_obj, x_dataset, y_dataset  = get_fifa_model()\n",
    "model_obj"
   ]
  },
  {
   "cell_type": "code",
   "execution_count": 32,
   "id": "02671abc-83f0-4a67-86b2-35e6b4e99cfb",
   "metadata": {},
   "outputs": [
    {
     "data": {
      "text/plain": [
       "'value_eur'"
      ]
     },
     "execution_count": 32,
     "metadata": {},
     "output_type": "execute_result"
    }
   ],
   "source": []
  },
  {
   "cell_type": "code",
   "execution_count": 43,
   "id": "b62f1424-29dd-4377-9b50-0c2ba16f75cd",
   "metadata": {},
   "outputs": [],
   "source": [
    "# now we shall first see what we do\n",
    "import pandas as pd\n",
    "\n",
    "class DevExplainer:\n",
    "    def __init__(self, model_obj, x_train, y_train, model_type=\"classification\", features=None, target=None):\n",
    "        self.model = self.verify_model(model_obj)\n",
    "        self.x_train = self.verify_data(x_train)\n",
    "        self.y_train = self.verify_data(y_train)\n",
    "        self.model_type = self.verify_model_type(model_type)\n",
    "        self.feature_names = self.verify_features(features)\n",
    "        self.target_names = self.verify_target(target)\n",
    "    \n",
    "    def verify_model(self, model):\n",
    "        print(\"Model Object Type : \", type(model))\n",
    "        if type(model) != \"str\":\n",
    "            print(\"Model Object Validated\")\n",
    "        else:\n",
    "            raise TypeError('Please provide Proper Model Object')\n",
    "        return model\n",
    "            \n",
    "    def verify_data(self, dataset):\n",
    "        print(\"Validating dataset\")\n",
    "        print(\"Dataset Type : \", type(dataset))\n",
    "        if isinstance(dataset, pd.DataFrame) or isinstance(dataset, pd.Series):\n",
    "            return dataset\n",
    "        else:\n",
    "            raise TypeError('Please provide dataset of type: \\nPandas Dataframe\\nPandas series')\n",
    "    \n",
    "    def verify_model_type(self, model_type):\n",
    "        print(\"Validating model type\")\n",
    "        print(\"Type entered :\", model_type.lower())\n",
    "        if model_type.lower() == \"classification\" or model_type.lower() == \"regression\":\n",
    "            print(\"Model Type Validated\")\n",
    "            return model_type.lower()\n",
    "        else:\n",
    "            raise TypeError('Please provide model_type: \\nClassification \\nRegression')\n",
    "    \n",
    "    def verify_features(self, features):\n",
    "        if features is None:\n",
    "            print(\"Validating feature names\")\n",
    "            print(\"List of features detected :\", list(self.x_train))\n",
    "            return list(self.x_train)\n",
    "\n",
    "    def verify_target(self, target):\n",
    "        if target is None:\n",
    "            print(\"Validating target names\")\n",
    "            if self.model_type == \"classification\":\n",
    "                print(\"List of Target Values :\", list(y_dataset.unique()))\n",
    "                return list(y_dataset.unique())\n",
    "            elif self.model_type == \"regression\":\n",
    "                print(\"Target Column :\", y_dataset.name)\n",
    "                return [y_dataset.name]\n",
    "            \n",
    "    def wait(self, wait_time):\n",
    "        import time\n",
    "        time.sleep(wait_time)"
   ]
  },
  {
   "cell_type": "code",
   "execution_count": 44,
   "id": "e18eeb0a-df14-47b3-b45e-0ffa1e64071a",
   "metadata": {},
   "outputs": [
    {
     "name": "stdout",
     "output_type": "stream",
     "text": [
      "Model Object Type :  <class 'sklearn.ensemble.gradient_boosting.GradientBoostingRegressor'>\n",
      "Model Object Validated\n",
      "Validating dataset\n",
      "Dataset Type :  <class 'pandas.core.frame.DataFrame'>\n",
      "Validating dataset\n",
      "Dataset Type :  <class 'pandas.core.series.Series'>\n",
      "Validating model type\n",
      "Type entered : regression\n",
      "Model Type Validated\n",
      "Validating feature names\n",
      "List of features detected : ['age', 'height_cm', 'weight_kg', 'attacking_crossing', 'attacking_finishing', 'attacking_heading_accuracy', 'attacking_short_passing', 'attacking_volleys', 'skill_dribbling', 'skill_curve']\n",
      "Validating target names\n",
      "regression\n",
      "Target Column : value_eur\n"
     ]
    }
   ],
   "source": [
    "explainer_obj = DevExplainer(\n",
    "    model_obj = model_obj,\n",
    "    x_train = x_dataset,\n",
    "    y_train = y_dataset,\n",
    "    model_type = \"Regression\"\n",
    ")"
   ]
  },
  {
   "cell_type": "code",
   "execution_count": null,
   "id": "d1bb0a59-8def-4fde-afbc-a007870934e1",
   "metadata": {},
   "outputs": [],
   "source": []
  },
  {
   "cell_type": "code",
   "execution_count": null,
   "id": "ee97c61d-888b-461d-9032-84123b04e522",
   "metadata": {},
   "outputs": [],
   "source": []
  }
 ],
 "metadata": {
  "kernelspec": {
   "display_name": "Python 3",
   "language": "python",
   "name": "python3"
  },
  "language_info": {
   "codemirror_mode": {
    "name": "ipython",
    "version": 3
   },
   "file_extension": ".py",
   "mimetype": "text/x-python",
   "name": "python",
   "nbconvert_exporter": "python",
   "pygments_lexer": "ipython3",
   "version": "3.6.13"
  }
 },
 "nbformat": 4,
 "nbformat_minor": 5
}
