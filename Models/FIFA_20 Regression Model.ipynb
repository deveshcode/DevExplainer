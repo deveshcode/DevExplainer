{
 "cells": [
  {
   "cell_type": "markdown",
   "metadata": {},
   "source": [
    "#  Fifa 20 Regression Model"
   ]
  },
  {
   "cell_type": "markdown",
   "metadata": {},
   "source": [
    "<img src=\"fifa.jpg\" float: right>"
   ]
  },
  {
   "cell_type": "code",
   "execution_count": 1,
   "metadata": {},
   "outputs": [],
   "source": [
    "# !pip install dalex lightgbm"
   ]
  },
  {
   "cell_type": "code",
   "execution_count": 2,
   "metadata": {},
   "outputs": [],
   "source": [
    "import dalex as dx \n",
    "\n",
    "import numpy as np\n",
    "import pandas as pd\n",
    "import shap \n",
    "\n",
    "from lightgbm import LGBMRegressor\n",
    "from sklearn.ensemble import GradientBoostingRegressor, GradientBoostingClassifier\n",
    "from sklearn.model_selection import train_test_split\n",
    "from sklearn.model_selection import RandomizedSearchCV\n",
    "from mosaicml import *\n",
    "from mosaicml.constants import MLModelFlavours\n",
    "\n",
    "import warnings\n",
    "warnings.filterwarnings('ignore')"
   ]
  },
  {
   "cell_type": "code",
   "execution_count": 4,
   "metadata": {},
   "outputs": [
    {
     "data": {
      "text/html": [
       "<div>\n",
       "<style scoped>\n",
       "    .dataframe tbody tr th:only-of-type {\n",
       "        vertical-align: middle;\n",
       "    }\n",
       "\n",
       "    .dataframe tbody tr th {\n",
       "        vertical-align: top;\n",
       "    }\n",
       "\n",
       "    .dataframe thead th {\n",
       "        text-align: right;\n",
       "    }\n",
       "</style>\n",
       "<table border=\"1\" class=\"dataframe\">\n",
       "  <thead>\n",
       "    <tr style=\"text-align: right;\">\n",
       "      <th></th>\n",
       "      <th>nationality</th>\n",
       "      <th>overall</th>\n",
       "      <th>potential</th>\n",
       "      <th>wage_eur</th>\n",
       "      <th>value_eur</th>\n",
       "      <th>age</th>\n",
       "      <th>height_cm</th>\n",
       "      <th>weight_kg</th>\n",
       "      <th>attacking_crossing</th>\n",
       "      <th>attacking_finishing</th>\n",
       "      <th>...</th>\n",
       "      <th>mentality_penalties</th>\n",
       "      <th>mentality_composure</th>\n",
       "      <th>defending_marking</th>\n",
       "      <th>defending_standing_tackle</th>\n",
       "      <th>defending_sliding_tackle</th>\n",
       "      <th>goalkeeping_diving</th>\n",
       "      <th>goalkeeping_handling</th>\n",
       "      <th>goalkeeping_kicking</th>\n",
       "      <th>goalkeeping_positioning</th>\n",
       "      <th>goalkeeping_reflexes</th>\n",
       "    </tr>\n",
       "    <tr>\n",
       "      <th>short_name</th>\n",
       "      <th></th>\n",
       "      <th></th>\n",
       "      <th></th>\n",
       "      <th></th>\n",
       "      <th></th>\n",
       "      <th></th>\n",
       "      <th></th>\n",
       "      <th></th>\n",
       "      <th></th>\n",
       "      <th></th>\n",
       "      <th></th>\n",
       "      <th></th>\n",
       "      <th></th>\n",
       "      <th></th>\n",
       "      <th></th>\n",
       "      <th></th>\n",
       "      <th></th>\n",
       "      <th></th>\n",
       "      <th></th>\n",
       "      <th></th>\n",
       "      <th></th>\n",
       "    </tr>\n",
       "  </thead>\n",
       "  <tbody>\n",
       "    <tr>\n",
       "      <th>L. Messi</th>\n",
       "      <td>Argentina</td>\n",
       "      <td>94</td>\n",
       "      <td>94</td>\n",
       "      <td>565000</td>\n",
       "      <td>95500000</td>\n",
       "      <td>32</td>\n",
       "      <td>170</td>\n",
       "      <td>72</td>\n",
       "      <td>88</td>\n",
       "      <td>95</td>\n",
       "      <td>...</td>\n",
       "      <td>75</td>\n",
       "      <td>96</td>\n",
       "      <td>33</td>\n",
       "      <td>37</td>\n",
       "      <td>26</td>\n",
       "      <td>6</td>\n",
       "      <td>11</td>\n",
       "      <td>15</td>\n",
       "      <td>14</td>\n",
       "      <td>8</td>\n",
       "    </tr>\n",
       "    <tr>\n",
       "      <th>Cristiano Ronaldo</th>\n",
       "      <td>Portugal</td>\n",
       "      <td>93</td>\n",
       "      <td>93</td>\n",
       "      <td>405000</td>\n",
       "      <td>58500000</td>\n",
       "      <td>34</td>\n",
       "      <td>187</td>\n",
       "      <td>83</td>\n",
       "      <td>84</td>\n",
       "      <td>94</td>\n",
       "      <td>...</td>\n",
       "      <td>85</td>\n",
       "      <td>95</td>\n",
       "      <td>28</td>\n",
       "      <td>32</td>\n",
       "      <td>24</td>\n",
       "      <td>7</td>\n",
       "      <td>11</td>\n",
       "      <td>15</td>\n",
       "      <td>14</td>\n",
       "      <td>11</td>\n",
       "    </tr>\n",
       "    <tr>\n",
       "      <th>Neymar Jr</th>\n",
       "      <td>Brazil</td>\n",
       "      <td>92</td>\n",
       "      <td>92</td>\n",
       "      <td>290000</td>\n",
       "      <td>105500000</td>\n",
       "      <td>27</td>\n",
       "      <td>175</td>\n",
       "      <td>68</td>\n",
       "      <td>87</td>\n",
       "      <td>87</td>\n",
       "      <td>...</td>\n",
       "      <td>90</td>\n",
       "      <td>94</td>\n",
       "      <td>27</td>\n",
       "      <td>26</td>\n",
       "      <td>29</td>\n",
       "      <td>9</td>\n",
       "      <td>9</td>\n",
       "      <td>15</td>\n",
       "      <td>15</td>\n",
       "      <td>11</td>\n",
       "    </tr>\n",
       "    <tr>\n",
       "      <th>J. Oblak</th>\n",
       "      <td>Slovenia</td>\n",
       "      <td>91</td>\n",
       "      <td>93</td>\n",
       "      <td>125000</td>\n",
       "      <td>77500000</td>\n",
       "      <td>26</td>\n",
       "      <td>188</td>\n",
       "      <td>87</td>\n",
       "      <td>13</td>\n",
       "      <td>11</td>\n",
       "      <td>...</td>\n",
       "      <td>11</td>\n",
       "      <td>68</td>\n",
       "      <td>27</td>\n",
       "      <td>12</td>\n",
       "      <td>18</td>\n",
       "      <td>87</td>\n",
       "      <td>92</td>\n",
       "      <td>78</td>\n",
       "      <td>90</td>\n",
       "      <td>89</td>\n",
       "    </tr>\n",
       "    <tr>\n",
       "      <th>E. Hazard</th>\n",
       "      <td>Belgium</td>\n",
       "      <td>91</td>\n",
       "      <td>91</td>\n",
       "      <td>470000</td>\n",
       "      <td>90000000</td>\n",
       "      <td>28</td>\n",
       "      <td>175</td>\n",
       "      <td>74</td>\n",
       "      <td>81</td>\n",
       "      <td>84</td>\n",
       "      <td>...</td>\n",
       "      <td>88</td>\n",
       "      <td>91</td>\n",
       "      <td>34</td>\n",
       "      <td>27</td>\n",
       "      <td>22</td>\n",
       "      <td>11</td>\n",
       "      <td>12</td>\n",
       "      <td>6</td>\n",
       "      <td>8</td>\n",
       "      <td>8</td>\n",
       "    </tr>\n",
       "    <tr>\n",
       "      <th>K. De Bruyne</th>\n",
       "      <td>Belgium</td>\n",
       "      <td>91</td>\n",
       "      <td>91</td>\n",
       "      <td>370000</td>\n",
       "      <td>90000000</td>\n",
       "      <td>28</td>\n",
       "      <td>181</td>\n",
       "      <td>70</td>\n",
       "      <td>93</td>\n",
       "      <td>82</td>\n",
       "      <td>...</td>\n",
       "      <td>79</td>\n",
       "      <td>91</td>\n",
       "      <td>68</td>\n",
       "      <td>58</td>\n",
       "      <td>51</td>\n",
       "      <td>15</td>\n",
       "      <td>13</td>\n",
       "      <td>5</td>\n",
       "      <td>10</td>\n",
       "      <td>13</td>\n",
       "    </tr>\n",
       "    <tr>\n",
       "      <th>M. ter Stegen</th>\n",
       "      <td>Germany</td>\n",
       "      <td>90</td>\n",
       "      <td>93</td>\n",
       "      <td>250000</td>\n",
       "      <td>67500000</td>\n",
       "      <td>27</td>\n",
       "      <td>187</td>\n",
       "      <td>85</td>\n",
       "      <td>18</td>\n",
       "      <td>14</td>\n",
       "      <td>...</td>\n",
       "      <td>25</td>\n",
       "      <td>70</td>\n",
       "      <td>25</td>\n",
       "      <td>13</td>\n",
       "      <td>10</td>\n",
       "      <td>88</td>\n",
       "      <td>85</td>\n",
       "      <td>88</td>\n",
       "      <td>88</td>\n",
       "      <td>90</td>\n",
       "    </tr>\n",
       "    <tr>\n",
       "      <th>V. van Dijk</th>\n",
       "      <td>Netherlands</td>\n",
       "      <td>90</td>\n",
       "      <td>91</td>\n",
       "      <td>200000</td>\n",
       "      <td>78000000</td>\n",
       "      <td>27</td>\n",
       "      <td>193</td>\n",
       "      <td>92</td>\n",
       "      <td>53</td>\n",
       "      <td>52</td>\n",
       "      <td>...</td>\n",
       "      <td>62</td>\n",
       "      <td>89</td>\n",
       "      <td>91</td>\n",
       "      <td>92</td>\n",
       "      <td>85</td>\n",
       "      <td>13</td>\n",
       "      <td>10</td>\n",
       "      <td>13</td>\n",
       "      <td>11</td>\n",
       "      <td>11</td>\n",
       "    </tr>\n",
       "    <tr>\n",
       "      <th>L. Modric</th>\n",
       "      <td>Croatia</td>\n",
       "      <td>90</td>\n",
       "      <td>90</td>\n",
       "      <td>340000</td>\n",
       "      <td>45000000</td>\n",
       "      <td>33</td>\n",
       "      <td>172</td>\n",
       "      <td>66</td>\n",
       "      <td>86</td>\n",
       "      <td>72</td>\n",
       "      <td>...</td>\n",
       "      <td>82</td>\n",
       "      <td>92</td>\n",
       "      <td>68</td>\n",
       "      <td>76</td>\n",
       "      <td>71</td>\n",
       "      <td>13</td>\n",
       "      <td>9</td>\n",
       "      <td>7</td>\n",
       "      <td>14</td>\n",
       "      <td>9</td>\n",
       "    </tr>\n",
       "    <tr>\n",
       "      <th>M. Salah</th>\n",
       "      <td>Egypt</td>\n",
       "      <td>90</td>\n",
       "      <td>90</td>\n",
       "      <td>240000</td>\n",
       "      <td>80500000</td>\n",
       "      <td>27</td>\n",
       "      <td>175</td>\n",
       "      <td>71</td>\n",
       "      <td>79</td>\n",
       "      <td>90</td>\n",
       "      <td>...</td>\n",
       "      <td>77</td>\n",
       "      <td>91</td>\n",
       "      <td>38</td>\n",
       "      <td>43</td>\n",
       "      <td>41</td>\n",
       "      <td>14</td>\n",
       "      <td>14</td>\n",
       "      <td>9</td>\n",
       "      <td>11</td>\n",
       "      <td>14</td>\n",
       "    </tr>\n",
       "  </tbody>\n",
       "</table>\n",
       "<p>10 rows × 42 columns</p>\n",
       "</div>"
      ],
      "text/plain": [
       "                   nationality  overall  potential  wage_eur  value_eur  age  \\\n",
       "short_name                                                                     \n",
       "L. Messi             Argentina       94         94    565000   95500000   32   \n",
       "Cristiano Ronaldo     Portugal       93         93    405000   58500000   34   \n",
       "Neymar Jr               Brazil       92         92    290000  105500000   27   \n",
       "J. Oblak              Slovenia       91         93    125000   77500000   26   \n",
       "E. Hazard              Belgium       91         91    470000   90000000   28   \n",
       "K. De Bruyne           Belgium       91         91    370000   90000000   28   \n",
       "M. ter Stegen          Germany       90         93    250000   67500000   27   \n",
       "V. van Dijk        Netherlands       90         91    200000   78000000   27   \n",
       "L. Modric              Croatia       90         90    340000   45000000   33   \n",
       "M. Salah                 Egypt       90         90    240000   80500000   27   \n",
       "\n",
       "                   height_cm  weight_kg  attacking_crossing  \\\n",
       "short_name                                                    \n",
       "L. Messi                 170         72                  88   \n",
       "Cristiano Ronaldo        187         83                  84   \n",
       "Neymar Jr                175         68                  87   \n",
       "J. Oblak                 188         87                  13   \n",
       "E. Hazard                175         74                  81   \n",
       "K. De Bruyne             181         70                  93   \n",
       "M. ter Stegen            187         85                  18   \n",
       "V. van Dijk              193         92                  53   \n",
       "L. Modric                172         66                  86   \n",
       "M. Salah                 175         71                  79   \n",
       "\n",
       "                   attacking_finishing  ...  mentality_penalties  \\\n",
       "short_name                              ...                        \n",
       "L. Messi                            95  ...                   75   \n",
       "Cristiano Ronaldo                   94  ...                   85   \n",
       "Neymar Jr                           87  ...                   90   \n",
       "J. Oblak                            11  ...                   11   \n",
       "E. Hazard                           84  ...                   88   \n",
       "K. De Bruyne                        82  ...                   79   \n",
       "M. ter Stegen                       14  ...                   25   \n",
       "V. van Dijk                         52  ...                   62   \n",
       "L. Modric                           72  ...                   82   \n",
       "M. Salah                            90  ...                   77   \n",
       "\n",
       "                   mentality_composure  defending_marking  \\\n",
       "short_name                                                  \n",
       "L. Messi                            96                 33   \n",
       "Cristiano Ronaldo                   95                 28   \n",
       "Neymar Jr                           94                 27   \n",
       "J. Oblak                            68                 27   \n",
       "E. Hazard                           91                 34   \n",
       "K. De Bruyne                        91                 68   \n",
       "M. ter Stegen                       70                 25   \n",
       "V. van Dijk                         89                 91   \n",
       "L. Modric                           92                 68   \n",
       "M. Salah                            91                 38   \n",
       "\n",
       "                   defending_standing_tackle  defending_sliding_tackle  \\\n",
       "short_name                                                               \n",
       "L. Messi                                  37                        26   \n",
       "Cristiano Ronaldo                         32                        24   \n",
       "Neymar Jr                                 26                        29   \n",
       "J. Oblak                                  12                        18   \n",
       "E. Hazard                                 27                        22   \n",
       "K. De Bruyne                              58                        51   \n",
       "M. ter Stegen                             13                        10   \n",
       "V. van Dijk                               92                        85   \n",
       "L. Modric                                 76                        71   \n",
       "M. Salah                                  43                        41   \n",
       "\n",
       "                   goalkeeping_diving  goalkeeping_handling  \\\n",
       "short_name                                                    \n",
       "L. Messi                            6                    11   \n",
       "Cristiano Ronaldo                   7                    11   \n",
       "Neymar Jr                           9                     9   \n",
       "J. Oblak                           87                    92   \n",
       "E. Hazard                          11                    12   \n",
       "K. De Bruyne                       15                    13   \n",
       "M. ter Stegen                      88                    85   \n",
       "V. van Dijk                        13                    10   \n",
       "L. Modric                          13                     9   \n",
       "M. Salah                           14                    14   \n",
       "\n",
       "                   goalkeeping_kicking  goalkeeping_positioning  \\\n",
       "short_name                                                        \n",
       "L. Messi                            15                       14   \n",
       "Cristiano Ronaldo                   15                       14   \n",
       "Neymar Jr                           15                       15   \n",
       "J. Oblak                            78                       90   \n",
       "E. Hazard                            6                        8   \n",
       "K. De Bruyne                         5                       10   \n",
       "M. ter Stegen                       88                       88   \n",
       "V. van Dijk                         13                       11   \n",
       "L. Modric                            7                       14   \n",
       "M. Salah                             9                       11   \n",
       "\n",
       "                   goalkeeping_reflexes  \n",
       "short_name                               \n",
       "L. Messi                              8  \n",
       "Cristiano Ronaldo                    11  \n",
       "Neymar Jr                            11  \n",
       "J. Oblak                             89  \n",
       "E. Hazard                             8  \n",
       "K. De Bruyne                         13  \n",
       "M. ter Stegen                        90  \n",
       "V. van Dijk                          11  \n",
       "L. Modric                             9  \n",
       "M. Salah                             14  \n",
       "\n",
       "[10 rows x 42 columns]"
      ]
     },
     "execution_count": 4,
     "metadata": {},
     "output_type": "execute_result"
    }
   ],
   "source": [
    "data = dx.datasets.load_fifa()\n",
    "data.head(10)"
   ]
  },
  {
   "cell_type": "code",
   "execution_count": 5,
   "metadata": {},
   "outputs": [],
   "source": [
    "X = data.drop([\"nationality\", \"overall\", \"potential\", \"value_eur\", \"wage_eur\"], axis = 1)\n",
    "y = data['value_eur']"
   ]
  },
  {
   "cell_type": "code",
   "execution_count": 7,
   "metadata": {},
   "outputs": [],
   "source": [
    "ylog = np.log(y)\n",
    "\n",
    "import matplotlib.pyplot as plt\n",
    "plt.hist(ylog, bins='auto')\n",
    "plt.title(\"ln(value_eur)\")\n",
    "plt.show()"
   ]
  },
  {
   "cell_type": "code",
   "execution_count": 8,
   "metadata": {},
   "outputs": [],
   "source": [
    "X_train, X_test, ylog_train, ylog_test, y_train, y_test = train_test_split(X, ylog, y, test_size=0.25, random_state=4)\n"
   ]
  },
  {
   "cell_type": "code",
   "execution_count": 9,
   "metadata": {},
   "outputs": [
    {
     "data": {
      "text/plain": [
       "short_name\n",
       "M. Batshuayi    16000000\n",
       "M. Agu           6500000\n",
       "Y. El Arabi      7000000\n",
       "P. Cisse         3500000\n",
       "A. Parmak        2200000\n",
       "Name: value_eur, dtype: int64"
      ]
     },
     "execution_count": 9,
     "metadata": {},
     "output_type": "execute_result"
    }
   ],
   "source": [
    "y_train[0:5]"
   ]
  },
  {
   "cell_type": "code",
   "execution_count": 10,
   "metadata": {
    "scrolled": true
   },
   "outputs": [
    {
     "data": {
      "text/plain": [
       "GradientBoostingRegressor(alpha=0.9, criterion='friedman_mse', init=None,\n",
       "                          learning_rate=0.1, loss='ls', max_depth=3,\n",
       "                          max_features=None, max_leaf_nodes=None,\n",
       "                          min_impurity_decrease=0.0, min_impurity_split=None,\n",
       "                          min_samples_leaf=1, min_samples_split=2,\n",
       "                          min_weight_fraction_leaf=0.0, n_estimators=100,\n",
       "                          n_iter_no_change=None, presort='auto',\n",
       "                          random_state=None, subsample=1.0, tol=0.0001,\n",
       "                          validation_fraction=0.1, verbose=0, warm_start=False)"
      ]
     },
     "execution_count": 10,
     "metadata": {},
     "output_type": "execute_result"
    }
   ],
   "source": [
    "gbm_default = GradientBoostingRegressor()\n",
    "\n",
    "gbm_default.fit(X_train, y_train)"
   ]
  },
  {
   "cell_type": "code",
   "execution_count": 11,
   "metadata": {},
   "outputs": [
    {
     "data": {
      "text/html": [
       "<div>\n",
       "<style scoped>\n",
       "    .dataframe tbody tr th:only-of-type {\n",
       "        vertical-align: middle;\n",
       "    }\n",
       "\n",
       "    .dataframe tbody tr th {\n",
       "        vertical-align: top;\n",
       "    }\n",
       "\n",
       "    .dataframe thead th {\n",
       "        text-align: right;\n",
       "    }\n",
       "</style>\n",
       "<table border=\"1\" class=\"dataframe\">\n",
       "  <thead>\n",
       "    <tr style=\"text-align: right;\">\n",
       "      <th></th>\n",
       "      <th>age</th>\n",
       "      <th>height_cm</th>\n",
       "      <th>weight_kg</th>\n",
       "      <th>attacking_crossing</th>\n",
       "      <th>attacking_finishing</th>\n",
       "      <th>attacking_heading_accuracy</th>\n",
       "      <th>attacking_short_passing</th>\n",
       "      <th>attacking_volleys</th>\n",
       "      <th>skill_dribbling</th>\n",
       "      <th>skill_curve</th>\n",
       "      <th>...</th>\n",
       "      <th>mentality_penalties</th>\n",
       "      <th>mentality_composure</th>\n",
       "      <th>defending_marking</th>\n",
       "      <th>defending_standing_tackle</th>\n",
       "      <th>defending_sliding_tackle</th>\n",
       "      <th>goalkeeping_diving</th>\n",
       "      <th>goalkeeping_handling</th>\n",
       "      <th>goalkeeping_kicking</th>\n",
       "      <th>goalkeeping_positioning</th>\n",
       "      <th>goalkeeping_reflexes</th>\n",
       "    </tr>\n",
       "    <tr>\n",
       "      <th>short_name</th>\n",
       "      <th></th>\n",
       "      <th></th>\n",
       "      <th></th>\n",
       "      <th></th>\n",
       "      <th></th>\n",
       "      <th></th>\n",
       "      <th></th>\n",
       "      <th></th>\n",
       "      <th></th>\n",
       "      <th></th>\n",
       "      <th></th>\n",
       "      <th></th>\n",
       "      <th></th>\n",
       "      <th></th>\n",
       "      <th></th>\n",
       "      <th></th>\n",
       "      <th></th>\n",
       "      <th></th>\n",
       "      <th></th>\n",
       "      <th></th>\n",
       "      <th></th>\n",
       "    </tr>\n",
       "  </thead>\n",
       "  <tbody>\n",
       "    <tr>\n",
       "      <th>M. Batshuayi</th>\n",
       "      <td>25</td>\n",
       "      <td>185</td>\n",
       "      <td>88</td>\n",
       "      <td>65</td>\n",
       "      <td>81</td>\n",
       "      <td>75</td>\n",
       "      <td>63</td>\n",
       "      <td>82</td>\n",
       "      <td>78</td>\n",
       "      <td>66</td>\n",
       "      <td>...</td>\n",
       "      <td>67</td>\n",
       "      <td>81</td>\n",
       "      <td>37</td>\n",
       "      <td>26</td>\n",
       "      <td>22</td>\n",
       "      <td>9</td>\n",
       "      <td>10</td>\n",
       "      <td>16</td>\n",
       "      <td>7</td>\n",
       "      <td>15</td>\n",
       "    </tr>\n",
       "    <tr>\n",
       "      <th>M. Agu</th>\n",
       "      <td>26</td>\n",
       "      <td>184</td>\n",
       "      <td>77</td>\n",
       "      <td>47</td>\n",
       "      <td>41</td>\n",
       "      <td>65</td>\n",
       "      <td>73</td>\n",
       "      <td>38</td>\n",
       "      <td>64</td>\n",
       "      <td>44</td>\n",
       "      <td>...</td>\n",
       "      <td>46</td>\n",
       "      <td>60</td>\n",
       "      <td>73</td>\n",
       "      <td>75</td>\n",
       "      <td>73</td>\n",
       "      <td>14</td>\n",
       "      <td>14</td>\n",
       "      <td>9</td>\n",
       "      <td>14</td>\n",
       "      <td>14</td>\n",
       "    </tr>\n",
       "    <tr>\n",
       "      <th>Y. El Arabi</th>\n",
       "      <td>32</td>\n",
       "      <td>182</td>\n",
       "      <td>84</td>\n",
       "      <td>61</td>\n",
       "      <td>80</td>\n",
       "      <td>74</td>\n",
       "      <td>68</td>\n",
       "      <td>85</td>\n",
       "      <td>85</td>\n",
       "      <td>72</td>\n",
       "      <td>...</td>\n",
       "      <td>86</td>\n",
       "      <td>64</td>\n",
       "      <td>25</td>\n",
       "      <td>30</td>\n",
       "      <td>42</td>\n",
       "      <td>6</td>\n",
       "      <td>16</td>\n",
       "      <td>11</td>\n",
       "      <td>6</td>\n",
       "      <td>11</td>\n",
       "    </tr>\n",
       "    <tr>\n",
       "      <th>P. Cisse</th>\n",
       "      <td>34</td>\n",
       "      <td>183</td>\n",
       "      <td>73</td>\n",
       "      <td>63</td>\n",
       "      <td>79</td>\n",
       "      <td>70</td>\n",
       "      <td>72</td>\n",
       "      <td>74</td>\n",
       "      <td>73</td>\n",
       "      <td>75</td>\n",
       "      <td>...</td>\n",
       "      <td>70</td>\n",
       "      <td>74</td>\n",
       "      <td>57</td>\n",
       "      <td>19</td>\n",
       "      <td>19</td>\n",
       "      <td>8</td>\n",
       "      <td>10</td>\n",
       "      <td>12</td>\n",
       "      <td>13</td>\n",
       "      <td>12</td>\n",
       "    </tr>\n",
       "  </tbody>\n",
       "</table>\n",
       "<p>4 rows × 37 columns</p>\n",
       "</div>"
      ],
      "text/plain": [
       "              age  height_cm  weight_kg  attacking_crossing  \\\n",
       "short_name                                                    \n",
       "M. Batshuayi   25        185         88                  65   \n",
       "M. Agu         26        184         77                  47   \n",
       "Y. El Arabi    32        182         84                  61   \n",
       "P. Cisse       34        183         73                  63   \n",
       "\n",
       "              attacking_finishing  attacking_heading_accuracy  \\\n",
       "short_name                                                      \n",
       "M. Batshuayi                   81                          75   \n",
       "M. Agu                         41                          65   \n",
       "Y. El Arabi                    80                          74   \n",
       "P. Cisse                       79                          70   \n",
       "\n",
       "              attacking_short_passing  attacking_volleys  skill_dribbling  \\\n",
       "short_name                                                                  \n",
       "M. Batshuayi                       63                 82               78   \n",
       "M. Agu                             73                 38               64   \n",
       "Y. El Arabi                        68                 85               85   \n",
       "P. Cisse                           72                 74               73   \n",
       "\n",
       "              skill_curve  ...  mentality_penalties  mentality_composure  \\\n",
       "short_name                 ...                                             \n",
       "M. Batshuayi           66  ...                   67                   81   \n",
       "M. Agu                 44  ...                   46                   60   \n",
       "Y. El Arabi            72  ...                   86                   64   \n",
       "P. Cisse               75  ...                   70                   74   \n",
       "\n",
       "              defending_marking  defending_standing_tackle  \\\n",
       "short_name                                                   \n",
       "M. Batshuayi                 37                         26   \n",
       "M. Agu                       73                         75   \n",
       "Y. El Arabi                  25                         30   \n",
       "P. Cisse                     57                         19   \n",
       "\n",
       "              defending_sliding_tackle  goalkeeping_diving  \\\n",
       "short_name                                                   \n",
       "M. Batshuayi                        22                   9   \n",
       "M. Agu                              73                  14   \n",
       "Y. El Arabi                         42                   6   \n",
       "P. Cisse                            19                   8   \n",
       "\n",
       "              goalkeeping_handling  goalkeeping_kicking  \\\n",
       "short_name                                                \n",
       "M. Batshuayi                    10                   16   \n",
       "M. Agu                          14                    9   \n",
       "Y. El Arabi                     16                   11   \n",
       "P. Cisse                        10                   12   \n",
       "\n",
       "              goalkeeping_positioning  goalkeeping_reflexes  \n",
       "short_name                                                   \n",
       "M. Batshuayi                        7                    15  \n",
       "M. Agu                             14                    14  \n",
       "Y. El Arabi                         6                    11  \n",
       "P. Cisse                           13                    12  \n",
       "\n",
       "[4 rows x 37 columns]"
      ]
     },
     "execution_count": 11,
     "metadata": {},
     "output_type": "execute_result"
    }
   ],
   "source": [
    "X_train[0:4]"
   ]
  },
  {
   "cell_type": "code",
   "execution_count": 12,
   "metadata": {},
   "outputs": [],
   "source": [
    "@scoring_func\n",
    "def score(model, request):\n",
    "    payload = request.json[\"payload\"]\n",
    "    data_list = payload\n",
    "    data_array = np.asarray(data_list)\n",
    "    try:\n",
    "        prediction = model.predict(data_array)\n",
    "    except:\n",
    "        prediction = model.predict(data_array.reshape(1, -1))\n",
    "    return prediction.tolist()\n"
   ]
  },
  {
   "cell_type": "code",
   "execution_count": 13,
   "metadata": {},
   "outputs": [
    {
     "data": {
      "text/plain": [
       "[17486393.998878445, 4700883.234152819, 7806455.846773997, 2705203.132935424]"
      ]
     },
     "execution_count": 13,
     "metadata": {},
     "output_type": "execute_result"
    }
   ],
   "source": [
    "# # to verify if score func works\n",
    "import requests\n",
    "req = requests.Request()\n",
    "req.json = {\"payload\":X_train[0:4]}\n",
    "\n",
    "score(gbm_default, req)"
   ]
  },
  {
   "cell_type": "code",
   "execution_count": 14,
   "metadata": {},
   "outputs": [],
   "source": [
    "Y_true = y_test\n",
    "\n",
    "Y_pred = gbm_default.predict(X_test)"
   ]
  },
  {
   "cell_type": "code",
   "execution_count": 15,
   "metadata": {},
   "outputs": [],
   "source": [
    "features = list(X_train)"
   ]
  },
  {
   "cell_type": "code",
   "execution_count": 61,
   "metadata": {
    "scrolled": true
   },
   "outputs": [
    {
     "data": {
      "text/plain": [
       "{'created_by': 'devesh.surve@lntinfotech.com',\n",
       " 'created_on': '2020-10-29T14:15:19+00:00',\n",
       " 'deploymentstatus': False,\n",
       " 'description': 'fifa_regression',\n",
       " 'flavour': 'sklearn',\n",
       " 'id': 'd6f3981f-4471-4841-b59d-2eb3e662fc86',\n",
       " 'last_modified_by': 'devesh.surve@lntinfotech.com',\n",
       " 'last_modified_on': '2020-10-29T14:15:19+00:00',\n",
       " 'name': 'fifa_regression_temp',\n",
       " 'project_id': '0d7e3c4e-8990-4847-8fa9-7483c5c87477',\n",
       " 'type': 'model',\n",
       " 'versions': [{'created_by': 'devesh.surve@lntinfotech.com',\n",
       "   'created_on': '2020-10-29T14:15:19+00:00',\n",
       "   'datasource_name': '',\n",
       "   'deploy_info': None,\n",
       "   'deployments': [],\n",
       "   'description': None,\n",
       "   'docker_image_url': 'registry.lti-aiq.in:443/mosaic-ai-logistics/mosaic-ai-serving:1.0.0-211020',\n",
       "   'gpu_docker_image_url': 'registry.lti-aiq.in:443/mosaic-ai-logistics/mosaic-ai-serving:gpu-1.0.0-30092020',\n",
       "   'id': '964daa9b-9553-480e-91d6-6966abc6ff49',\n",
       "   'init_script': '\"pip install --user absl-py==0.10.0\\\\n pip install --user alembic==1.4.3\\\\n pip install --user astor==0.8.1\\\\n pip install --user astroid==2.3.3\\\\n pip install --user async-generator==1.10\\\\n pip install --user attrs==19.3.0\\\\n pip install --user backcall==0.2.0\\\\n pip install --user beautifulsoup4==4.9.3\\\\n pip install --user bleach==3.1.5\\\\n pip install --user blis==0.4.1\\\\n pip install --user bokeh==2.1.1\\\\n pip install --user bs4==0.0.1\\\\n pip install --user cachetools==4.1.1\\\\n pip install --user category-encoders==2.2.2\\\\n pip install --user certifi==2020.6.20\\\\n pip install --user chardet==3.0.4\\\\n pip install --user click==7.1.2\\\\n pip install --user cloudpickle==1.2.2\\\\n pip install --user colorama==0.4.4\\\\n pip install --user commonmark==0.9.1\\\\n pip install --user coverage==5.3\\\\n pip install --user cycler==0.10.0\\\\n pip install --user cymem==2.0.3\\\\n pip install --user dalex==0.3.0\\\\n pip install --user dask==2.30.0\\\\n pip install --user dataclasses==0.7\\\\n pip install --user deap==1.3.1\\\\n pip install --user decorator==4.4.2\\\\n pip install --user defusedxml==0.6.0\\\\n pip install --user dill==0.3.2\\\\n pip install --user ds-lime==0.1.1.27\\\\n pip install --user entrypoints==0.3\\\\n pip install --user flasgger==0.9.3\\\\n pip install --user Flask==1.1.1\\\\n pip install --user Flask-Cors==3.0.8\\\\n pip install --user Flask-SQLAlchemy==2.4.3\\\\n pip install --user fonttools==4.16.1\\\\n pip install --user future==0.18.2\\\\n pip install --user gast==0.4.0\\\\n pip install --user google-auth==1.22.1\\\\n pip install --user google-pasta==0.2.0\\\\n pip install --user grpcio==1.32.0\\\\n pip install --user gunicorn==19.9.0\\\\n pip install --user h5py==2.10.0\\\\n pip install --user holoviews==1.13.4\\\\n pip install --user idna==2.8\\\\n pip install --user importlib-metadata==1.7.0\\\\n pip install --user iniconfig==1.1.1\\\\n pip install --user ipykernel==5.3.1\\\\n pip install --user ipyplot==1.1.0\\\\n pip install --user ipython==7.16.1\\\\n pip install --user ipython-genutils==0.2.0\\\\n pip install --user ipywidgets==7.5.1\\\\n pip install --user isort==4.3.21\\\\n pip install --user itsdangerous==1.1.0\\\\n pip install --user jedi==0.17.1\\\\n pip install --user Jinja2==2.11.2\\\\n pip install --user joblib==0.11\\\\n pip install --user jsonpickle==1.2\\\\n pip install --user jsonschema==3.2.0\\\\n pip install --user jupyter==1.0.0\\\\n pip install --user jupyter-client==6.1.5\\\\n pip install --user jupyter-console==6.1.0\\\\n pip install --user jupyter-core==4.6.3\\\\n pip install --user jupyterhub==0.9.4\\\\n pip install --user Keras==2.2.4\\\\n pip install --user Keras-Applications==1.0.8\\\\n pip install --user Keras-Preprocessing==1.1.2\\\\n pip install --user kiwisolver==1.2.0\\\\n pip install --user kubernetes==9.0.0\\\\n pip install --user kyd==0.1.8\\\\n pip install --user lazy-object-proxy==1.4.3\\\\n pip install --user lightgbm==3.0.0\\\\n pip install --user Mako==1.1.3\\\\n pip install --user Markdown==3.3.2\\\\n pip install --user MarkupSafe==1.1.1\\\\n pip install --user matplotlib==3.1.1\\\\n pip install --user mccabe==0.6.1\\\\n pip install --user minio==4.0.18\\\\n pip install --user mistune==0.8.4\\\\n pip install --user multiprocess==0.70.10\\\\n pip install --user murmurhash==1.0.2\\\\n pip install --user mysql-connector-python==8.0.17\\\\n pip install --user mysql-connector-python-rf==2.2.2\\\\n pip install --user nbconvert==5.6.1\\\\n pip install --user nbformat==5.0.7\\\\n pip install --user networkx==2.5\\\\n pip install --user nltk==3.5\\\\n pip install --user nose==1.3.7\\\\n pip install --user notebook==5.7.0\\\\n pip install --user numpy==1.19.3\\\\n pip install --user oauthlib==3.1.0\\\\n pip install --user packaging==20.4\\\\n pip install --user pamela==1.0.0\\\\n pip install --user pandas==1.1.3\\\\n pip install --user pandas-profiling==1.4.2\\\\n pip install --user pandocfilters==1.4.2\\\\n pip install --user panel==0.9.7\\\\n pip install --user param==1.9.3\\\\n pip install --user parso==0.7.0\\\\n pip install --user patsy==0.5.1\\\\n pip install --user pexpect==4.8.0\\\\n pip install --user pickleshare==0.7.5\\\\n pip install --user Pillow==8.0.0\\\\n pip install --user plac==1.1.3\\\\n pip install --user plotly==4.12.0\\\\n pip install --user pluggy==0.13.1\\\\n pip install --user preshed==3.0.2\\\\n pip install --user prometheus-client==0.8.0\\\\n pip install --user prompt-toolkit==3.0.5\\\\n pip install --user protobuf==3.13.0\\\\n pip install --user ptyprocess==0.6.0\\\\n pip install --user py==1.9.0\\\\n pip install --user py-dateinfer==0.4.5\\\\n pip install --user py4j==0.10.4\\\\n pip install --user pyasn1==0.4.8\\\\n pip install --user pyasn1-modules==0.2.8\\\\n pip install --user pyct==0.4.8\\\\n pip install --user pydotplus==2.0.2\\\\n pip install --user Pygments==2.6.1\\\\n pip install --user PyJWT==1.7.1\\\\n pip install --user pylint==2.4.4\\\\n pip install --user PyMySQL==0.10.1\\\\n pip install --user pyparsing==2.4.7\\\\n pip install --user pyrsistent==0.16.0\\\\n pip install --user pyspark==2.1.2\\\\n pip install --user pytest==6.1.1\\\\n pip install --user python-dateutil==2.8.1\\\\n pip install --user python-editor==1.0.4\\\\n pip install --user python-oauth2==1.1.1\\\\n pip install --user pytz==2020.1\\\\n pip install --user pyviz-comms==0.7.6\\\\n pip install --user PyWavelets==1.1.1\\\\n pip install --user PyYAML==5.1.2\\\\n pip install --user pyzmq==19.0.1\\\\n pip install --user qgrid==1.3.1\\\\n pip install --user qtconsole==4.7.5\\\\n pip install --user QtPy==1.9.0\\\\n pip install --user regex==2020.10.15\\\\n pip install --user requests==2.22.0\\\\n pip install --user requests-oauthlib==1.3.0\\\\n pip install --user requests-toolbelt==0.9.1\\\\n pip install --user retrying==1.3.3\\\\n pip install --user rich==9.0.1\\\\n pip install --user rsa==4.6\\\\n pip install --user scikit-image==0.14.0\\\\n pip install --user scikit-learn==0.21.3\\\\n pip install --user scipy==1.5.3\\\\n pip install --user Send2Trash==1.5.0\\\\n pip install --user setuptools==49.1.0\\\\n pip install --user shortuuid==1.0.1\\\\n pip install --user simplejson==3.16.0\\\\n pip install --user six==1.15.0\\\\n pip install --user skater==1.1.2\\\\n pip install --user sklearn==0.0\\\\n pip install --user socketIO-client==0.7.2\\\\n pip install --user soupsieve==2.0.1\\\\n pip install --user spacy==2.2.2\\\\n pip install --user SQLAlchemy==1.3.18\\\\n pip install --user srsly==1.0.2\\\\n pip install --user statsmodels==0.12.0\\\\n pip install --user stopit==1.1.2\\\\n pip install --user tabulate==0.8.7\\\\n pip install --user tensorboard==1.14.0\\\\n pip install --user tensorflow==1.14.0\\\\n pip install --user tensorflow-estimator==1.14.0\\\\n pip install --user termcolor==1.1.0\\\\n pip install --user terminado==0.8.3\\\\n pip install --user testpath==0.4.4\\\\n pip install --user thinc==7.3.1\\\\n pip install --user toml==0.10.1\\\\n pip install --user toolz==0.11.1\\\\n pip install --user torch==1.2.0\\\\n pip install --user torchvision==0.4.0\\\\n pip install --user tornado==5.1.1\\\\n pip install --user tqdm==4.50.2\\\\n pip install --user traitlets==4.3.3\\\\n pip install --user typed-ast==1.4.1\\\\n pip install --user typing-extensions==3.7.4.3\\\\n pip install --user update-checker==0.18.0\\\\n pip install --user urllib3==1.25.11\\\\n pip install --user wasabi==0.8.0\\\\n pip install --user wcwidth==0.2.5\\\\n pip install --user webencodings==0.5.1\\\\n pip install --user websocket-client==0.57.0\\\\n pip install --user Werkzeug==1.0.1\\\\n pip install --user wheel==0.34.2\\\\n pip install --user widgetsnbextension==3.5.1\\\\n pip install --user wordcloud==1.3.1\\\\n pip install --user wrapt==1.11.2\\\\n pip install --user xgboost==0.90\\\\n pip install --user zipp==3.1.0\\\\n \\\\nmkdir abc \\\\n cd abc \\\\n touch abc.txt\"',\n",
       "   'input_type': 'json',\n",
       "   'last_modified_by': 'devesh.surve@lntinfotech.com',\n",
       "   'last_modified_on': '2020-10-29T14:15:19+00:00',\n",
       "   'metadata_info': None,\n",
       "   'ml_model_id': 'd6f3981f-4471-4841-b59d-2eb3e662fc86',\n",
       "   'model_class': {'_rng': 'RandomState(MT19937)',\n",
       "    'alpha': 0.9,\n",
       "    'class': 'sklearn.ensemble.gradient_boosting.GradientBoostingRegressor',\n",
       "    'criterion': 'friedman_mse',\n",
       "    'estimators_': None,\n",
       "    'init': None,\n",
       "    'init_': \"DummyRegressor(constant=None, quantile=None, strategy='mean')\",\n",
       "    'learning_rate': 0.1,\n",
       "    'loss': 'ls',\n",
       "    'loss_': '<sklearn.ensemble._gb_losses.LeastSquaresError object at 0x7f93b24d38d0>',\n",
       "    'max_depth': 3,\n",
       "    'max_features': None,\n",
       "    'max_features_': 37,\n",
       "    'max_leaf_nodes': None,\n",
       "    'min_impurity_decrease': 0,\n",
       "    'min_impurity_split': None,\n",
       "    'min_samples_leaf': 1,\n",
       "    'min_samples_split': 2,\n",
       "    'min_weight_fraction_leaf': 0,\n",
       "    'n_classes_': 1,\n",
       "    'n_estimators': 100,\n",
       "    'n_estimators_': 100,\n",
       "    'n_features_': 37,\n",
       "    'n_iter_no_change': None,\n",
       "    'presort': 'auto',\n",
       "    'random_state': None,\n",
       "    'subsample': 1,\n",
       "    'tol': 0.0001,\n",
       "    'train_score_': None,\n",
       "    'validation_fraction': 0.1,\n",
       "    'verbose': 0,\n",
       "    'warm_start': False},\n",
       "   'model_info': {'deep_learning_model': False,\n",
       "    'expai': False,\n",
       "    'feature_type_inferenced': False,\n",
       "    'features_name': None,\n",
       "    'features_type': {},\n",
       "    'kyd': False,\n",
       "    'learning_data_format': 'UNSPECIFIED',\n",
       "    'mode': None,\n",
       "    'number_of_features': 0,\n",
       "    'number_of_targets': 0,\n",
       "    'targets_mapping': {'mapping_value': None, 'target_names': None},\n",
       "    'temp_dir': ''},\n",
       "   'object_url': 'd6f3981f-4471-4841-b59d-2eb3e662fc86/964daa9b-9553-480e-91d6-6966abc6ff49/ml_model.tar.gz',\n",
       "   'profiling': [],\n",
       "   'schema': {},\n",
       "   'status': 'active',\n",
       "   'target_names': {'target': None},\n",
       "   'version_no': 1,\n",
       "   'detailed_matrix': {}}]}"
      ]
     },
     "execution_count": 61,
     "metadata": {},
     "output_type": "execute_result"
    }
   ],
   "source": [
    "register_model(\n",
    "    gbm_default,\n",
    "    score,\n",
    "    \"fifa_regression_temp\",\n",
    "    \"fifa_regression\",\n",
    "    MLModelFlavours.sklearn,\n",
    "    init_script=\"mkdir abc \\\\n cd abc \\\\n touch abc.txt\",\n",
    "    input_type=\"json\",\n",
    ")"
   ]
  },
  {
   "cell_type": "code",
   "execution_count": 64,
   "metadata": {},
   "outputs": [
    {
     "name": "stderr",
     "output_type": "stream",
     "text": [
      "2020-10-29 14:21:47,830 - skater.core.explanations - WARNING - Progress bars slow down runs by 10-20%. For slightly \n",
      "faster runs, do progressbar=False\n",
      "2020-10-29 14:21:47,833 - skater.core.explanations - WARNING - Multiprocessing failed, going single process\n"
     ]
    },
    {
     "name": "stdout",
     "output_type": "stream",
     "text": [
      "[25/25] grid cells ████████████████████ Time elapsed: 2 seconds"
     ]
    },
    {
     "name": "stderr",
     "output_type": "stream",
     "text": [
      "2020-10-29 14:21:51,073 - skater.core.explanations - WARNING - Progress bars slow down runs by 10-20%. For slightly \n",
      "faster runs, do progressbar=False\n",
      "2020-10-29 14:21:51,076 - skater.core.explanations - WARNING - Multiprocessing failed, going single process\n"
     ]
    },
    {
     "name": "stdout",
     "output_type": "stream",
     "text": [
      "[22/22] grid cells ████████████████████ Time elapsed: 2 seconds"
     ]
    },
    {
     "name": "stderr",
     "output_type": "stream",
     "text": [
      "2020-10-29 14:21:54,061 - skater.core.explanations - WARNING - Progress bars slow down runs by 10-20%. For slightly \n",
      "faster runs, do progressbar=False\n",
      "2020-10-29 14:21:54,064 - skater.core.explanations - WARNING - Multiprocessing failed, going single process\n"
     ]
    },
    {
     "name": "stdout",
     "output_type": "stream",
     "text": [
      "[22/22] grid cells ████████████████████ Time elapsed: 2 seconds"
     ]
    },
    {
     "name": "stderr",
     "output_type": "stream",
     "text": [
      "2020-10-29 14:21:57,230 - skater.core.explanations - WARNING - Progress bars slow down runs by 10-20%. For slightly \n",
      "faster runs, do progressbar=False\n",
      "2020-10-29 14:21:57,234 - skater.core.explanations - WARNING - Multiprocessing failed, going single process\n"
     ]
    },
    {
     "name": "stdout",
     "output_type": "stream",
     "text": [
      "[29/29] grid cells ████████████████████ Time elapsed: 3 seconds"
     ]
    },
    {
     "name": "stderr",
     "output_type": "stream",
     "text": [
      "2020-10-29 14:22:01,099 - skater.core.explanations - WARNING - Progress bars slow down runs by 10-20%. For slightly \n",
      "faster runs, do progressbar=False\n",
      "2020-10-29 14:22:01,102 - skater.core.explanations - WARNING - Multiprocessing failed, going single process\n"
     ]
    },
    {
     "name": "stdout",
     "output_type": "stream",
     "text": [
      "[30/30] grid cells ████████████████████ Time elapsed: 3 seconds"
     ]
    },
    {
     "name": "stderr",
     "output_type": "stream",
     "text": [
      "2020-10-29 14:22:04,473 - skater.core.explanations - WARNING - Progress bars slow down runs by 10-20%. For slightly \n",
      "faster runs, do progress_bar=False\n",
      "2020-10-29 14:22:04,476 - skater.core.explanations - WARNING - Multiprocessing failed, going single process\n"
     ]
    },
    {
     "name": "stdout",
     "output_type": "stream",
     "text": [
      "[37/37] features ████████████████████ Time elapsed: 14 seconds"
     ]
    },
    {
     "name": "stderr",
     "output_type": "stream",
     "text": [
      "2020-10-29 14:22:19,429 - skater.core.global_interpretation.tree_surrogate - INFO - post pruning applied ...\n",
      "2020-10-29 14:22:19,501 - skater.core.global_interpretation.tree_surrogate - INFO - Scorer used MAE\n",
      "2020-10-29 14:22:19,503 - skater.core.global_interpretation.tree_surrogate - INFO - original score using base model 1062151.0120345897\n",
      "2020-10-29 14:22:19,649 - skater.core.global_interpretation.tree_surrogate - INFO - Summary: childrens of the following nodes are removed []\n",
      "2020-10-29 14:22:19,652 - skater.core.global_interpretation.tree_surrogate - INFO - Done generating prediction using the surrogate, shape (3750,)\n",
      "2020-10-29 14:22:19,654 - skater.core.global_interpretation.tree_surrogate - INFO - Done scoring, surrogate score 1062151.012; oracle score 1262252.299\n",
      "2020-10-29 14:22:19,655 - skater.core.global_interpretation.tree_surrogate - WARNING - impurity score: 200101.287 of the surrogate model is higher than the impurity threshold: 0.01. The higher the impurity score, lower is the fidelity/faithfulness of the surrogate model\n"
     ]
    }
   ],
   "source": [
    "from mosaicml.expai import expai_graph\n",
    "\n",
    "pdp, fi, se = expai_graph(\n",
    "    x_train=X_train,\n",
    "y_train=y_train,\n",
    "model=gbm_default,\n",
    "feature_names=features,\n",
    "feature_ids=features[0:5],\n",
    "target_names=[\"Value\"],\n",
    "_ml_model_id=\"0699fcc0-e197-465e-a1c0-953553827fae\",\n",
    "_ml_version_id=\"7268537d-50d2-40d3-bfb7-e53932cf3293\",\n",
    "model_type=\"regression\"\n",
    ")\n",
    "\n",
    "\n"
   ]
  },
  {
   "cell_type": "code",
   "execution_count": 16,
   "metadata": {},
   "outputs": [
    {
     "name": "stdout",
     "output_type": "stream",
     "text": [
      "[22/22] grid cells ████████████████████ Time elapsed: 2 seconds"
     ]
    },
    {
     "data": {
      "text/plain": [
       "[[<Figure size 1152x720 with 1 Axes>,\n",
       "  <matplotlib.axes._subplots.AxesSubplot at 0x7fe27f611f60>],\n",
       " [<Figure size 1152x720 with 1 Axes>,\n",
       "  <matplotlib.axes._subplots.AxesSubplot at 0x7fe35bf54e80>],\n",
       " [<Figure size 1152x720 with 1 Axes>,\n",
       "  <matplotlib.axes._subplots.AxesSubplot at 0x7fe35bf03f98>]]"
      ]
     },
     "execution_count": 16,
     "metadata": {},
     "output_type": "execute_result"
    },
    {
     "data": {
      "image/png": "[encoded data removed]",
      "text/plain": [
       "<Figure size 1152x720 with 1 Axes>"
      ]
     },
     "metadata": {
      "needs_background": "light"
     },
     "output_type": "display_data"
    },
    {
     "data": {
      "image/png": "[encoded data removed]",
      "text/plain": [
       "<Figure size 1152x720 with 1 Axes>"
      ]
     },
     "metadata": {
      "needs_background": "light"
     },
     "output_type": "display_data"
    },
    {
     "data": {
      "image/png": "[encoded data removed]",
      "text/plain": [
       "<Figure size 1152x720 with 1 Axes>"
      ]
     },
     "metadata": {
      "needs_background": "light"
     },
     "output_type": "display_data"
    }
   ],
   "source": [
    "from skater.core.explanations import Interpretation\n",
    "from skater.model import InMemoryModel\n",
    "\n",
    "%matplotlib inline\n",
    "\n",
    "interpreter = Interpretation(\n",
    "            training_data=X_train, \n",
    "            training_labels=y_train, \n",
    "            feature_names=features,\n",
    "            class_names=[\"Value\"],\n",
    "            log_level=300\n",
    "        )\n",
    "pyint_model = InMemoryModel(\n",
    "                gbm_default.predict,\n",
    "                examples=X_train,\n",
    "                target_names=[\"Value\"],\n",
    "                feature_names=features,\n",
    "                model_type=\"regressor\",\n",
    "                log_level=30,\n",
    "            )\n",
    "interpreter.partial_dependence.plot_partial_dependence(\n",
    "                features[0:3],\n",
    "                pyint_model,\n",
    "                n_jobs=2,\n",
    "                grid_resolution=30,\n",
    "                n_samples=3000,\n",
    "                progressbar=True,\n",
    "            )"
   ]
  },
  {
   "cell_type": "code",
   "execution_count": 17,
   "metadata": {},
   "outputs": [
    {
     "name": "stdout",
     "output_type": "stream",
     "text": [
      "[37/37] features ████████████████████ Time elapsed: 14 seconds"
     ]
    },
    {
     "data": {
      "text/plain": [
       "(<Figure size 432x288 with 1 Axes>,\n",
       " <matplotlib.axes._subplots.AxesSubplot at 0x7fe35bebc0f0>)"
      ]
     },
     "execution_count": 17,
     "metadata": {},
     "output_type": "execute_result"
    },
    {
     "data": {
      "image/png": "[encoded data removed]",
      "text/plain": [
       "<Figure size 432x288 with 1 Axes>"
      ]
     },
     "metadata": {
      "needs_background": "light"
     },
     "output_type": "display_data"
    }
   ],
   "source": [
    "interpreter.feature_importance.plot_feature_importance(pyint_model, ascending=True, filter_classes=None, n_jobs=1, progressbar=True,\n",
    "                   n_samples=1000000, method='model-scoring', scorer_type='default', use_scaling=False)"
   ]
  },
  {
   "cell_type": "code",
   "execution_count": 18,
   "metadata": {},
   "outputs": [
    {
     "name": "stderr",
     "output_type": "stream",
     "text": [
      "2020-10-29 14:48:19,703 - skater.core.global_interpretation.tree_surrogate - INFO - post pruning applied ...\n",
      "2020-10-29 14:48:19,763 - skater.core.global_interpretation.tree_surrogate - INFO - Scorer used MAE\n",
      "2020-10-29 14:48:19,765 - skater.core.global_interpretation.tree_surrogate - INFO - original score using base model 1679442.2952496628\n",
      "2020-10-29 14:48:19,915 - skater.core.global_interpretation.tree_surrogate - INFO - Summary: childrens of the following nodes are removed []\n",
      "2020-10-29 14:48:19,918 - skater.core.global_interpretation.tree_surrogate - INFO - Done generating prediction using the surrogate, shape (3750,)\n",
      "2020-10-29 14:48:19,919 - skater.core.global_interpretation.tree_surrogate - INFO - Done scoring, surrogate score 1679442.295; oracle score 1262252.299\n"
     ]
    },
    {
     "data": {
      "text/plain": [
       "<pydotplus.graphviz.Dot at 0x7fe352c09550>"
      ]
     },
     "execution_count": 18,
     "metadata": {},
     "output_type": "execute_result"
    },
    {
     "data": {
      "image/png": "[encoded data removed]",
      "text/plain": [
       "<Figure size 1440x576 with 2 Axes>"
      ]
     },
     "metadata": {
      "needs_background": "light"
     },
     "output_type": "display_data"
    }
   ],
   "source": [
    "surrogate_tree_class_obj = interpreter.tree_surrogate(oracle=pyint_model, splitter='best', max_depth=300, min_samples_split=2, \n",
    "                               min_samples_leaf=1, min_weight_fraction_leaf=0.0, max_features=None, \n",
    "                               seed=None, max_leaf_nodes=100, min_impurity_decrease=0.0, min_impurity_split=None, \n",
    "                               class_weight='balanced', presort=True, impurity_threshold=0.01)\n",
    "\n",
    "\n",
    "impurity_score = surrogate_tree_class_obj.fit(X_train, y_train, use_oracle=False, prune='post', cv=10, \n",
    "                             n_iter_search=100, scorer_type='default', n_jobs=-1, param_grid=None, \n",
    "                             impurity_threshold=0.5, verbose=False)\n",
    "\n",
    "\n",
    "surrogate_tree_class_obj.plot_global_decisions(colors=None, enable_node_id=True, random_state=0, \n",
    "                                               file_name='interpretable_tree_fifa.png', show_img=True, \n",
    "                                               fig_size=(20, 8))"
   ]
  },
  {
   "cell_type": "code",
   "execution_count": 19,
   "metadata": {},
   "outputs": [],
   "source": [
    "from skater.core.local_interpretation.lime.lime_tabular import LimeTabularExplainer\n",
    "\n",
    "lime_explainer_obj = LimeTabularExplainer(X_train.to_numpy(), mode='regression', training_labels=y_train, \n",
    "                                feature_names=features, categorical_features=None, categorical_names=None, \n",
    "                                kernel_width=None, verbose=False, class_names=[\"Value\"], \n",
    "                                feature_selection='auto', discretize_continuous=True, \n",
    "                                discretizer='quartile')\n",
    "\n",
    "lime_instance_obj = lime_explainer_obj.explain_instance(\n",
    "    X_train.to_numpy()[0], gbm_default.predict, num_features=10, \n",
    "    num_samples=100, distance_metric='euclidean', model_regressor=None,\n",
    "    labels=[\"Value\"])\n"
   ]
  },
  {
   "cell_type": "code",
   "execution_count": null,
   "metadata": {},
   "outputs": [],
   "source": [
    "lime_instance_obj.show_in_notebook()"
   ]
  },
  {
   "cell_type": "code",
   "execution_count": 82,
   "metadata": {},
   "outputs": [],
   "source": [
    "# !pip install shap"
   ]
  },
  {
   "cell_type": "code",
   "execution_count": null,
   "metadata": {},
   "outputs": [],
   "source": [
    "shap.initjs()"
   ]
  },
  {
   "cell_type": "code",
   "execution_count": 22,
   "metadata": {},
   "outputs": [
    {
     "data": {
      "text/html": [
       "\n",
       "<div id='iHE3I2U0QNIJ8M8OZX1OX'>\n",
       "<div style='color: #900; text-align: center;'>\n",
       "  <b>Visualization omitted, Javascript library not loaded!</b><br>\n",
       "  Have you run `initjs()` in this notebook? If this notebook was from another\n",
       "  user you must also trust this notebook (File -> Trust notebook). If you are viewing\n",
       "  this notebook on github the Javascript has been stripped for security. If you are using\n",
       "  JupyterLab this error is because a JupyterLab extension has not yet been written.\n",
       "</div></div>\n",
       " <script>\n",
       "   if (window.SHAP) SHAP.ReactDom.render(\n",
       "    SHAP.React.createElement(SHAP.AdditiveForceVisualizer, {\"outNames\": [\"f(x)\"], \"baseValue\": 7520185.333333333, \"outValue\": 17486393.998878434, \"link\": \"identity\", \"featureNames\": [\"age\", \"height_cm\", \"weight_kg\", \"attacking_crossing\", \"attacking_finishing\", \"attacking_heading_accuracy\", \"attacking_short_passing\", \"attacking_volleys\", \"skill_dribbling\", \"skill_curve\", \"skill_fk_accuracy\", \"skill_long_passing\", \"skill_ball_control\", \"movement_acceleration\", \"movement_sprint_speed\", \"movement_agility\", \"movement_reactions\", \"movement_balance\", \"power_shot_power\", \"power_jumping\", \"power_stamina\", \"power_strength\", \"power_long_shots\", \"mentality_aggression\", \"mentality_interceptions\", \"mentality_positioning\", \"mentality_vision\", \"mentality_penalties\", \"mentality_composure\", \"defending_marking\", \"defending_standing_tackle\", \"defending_sliding_tackle\", \"goalkeeping_diving\", \"goalkeeping_handling\", \"goalkeeping_kicking\", \"goalkeeping_positioning\", \"goalkeeping_reflexes\"], \"features\": {\"0\": {\"effect\": 2536918.459737266, \"value\": 25.0}, \"1\": {\"effect\": 255.31901572953598, \"value\": 185.0}, \"3\": {\"effect\": -85089.23392415255, \"value\": 65.0}, \"4\": {\"effect\": 2477601.0061855926, \"value\": 81.0}, \"5\": {\"effect\": 383168.20257029653, \"value\": 75.0}, \"6\": {\"effect\": -392411.2688582272, \"value\": 63.0}, \"7\": {\"effect\": -23919.048802165253, \"value\": 82.0}, \"8\": {\"effect\": 582606.9946808368, \"value\": 78.0}, \"9\": {\"effect\": -5326.6287131556555, \"value\": 66.0}, \"10\": {\"effect\": 2717.3305948312236, \"value\": 46.0}, \"11\": {\"effect\": -64868.89138899139, \"value\": 36.0}, \"12\": {\"effect\": 1110406.0902228414, \"value\": 80.0}, \"13\": {\"effect\": -2218.7084381820714, \"value\": 77.0}, \"14\": {\"effect\": -38673.13532450628, \"value\": 75.0}, \"15\": {\"effect\": -49.61955805244648, \"value\": 75.0}, \"16\": {\"effect\": 3482413.036508217, \"value\": 79.0}, \"17\": {\"effect\": 1124.4490272287705, \"value\": 76.0}, \"18\": {\"effect\": 200233.94641340562, \"value\": 81.0}, \"19\": {\"effect\": 14483.60790554155, \"value\": 80.0}, \"20\": {\"effect\": -281841.6608936745, \"value\": 65.0}, \"21\": {\"effect\": 66263.79948764504, \"value\": 78.0}, \"22\": {\"effect\": 27973.278307877597, \"value\": 74.0}, \"23\": {\"effect\": -19657.171126487498, \"value\": 63.0}, \"24\": {\"effect\": -45977.20927554764, \"value\": 23.0}, \"25\": {\"effect\": 359208.37705933047, \"value\": 83.0}, \"26\": {\"effect\": -117222.99013363358, \"value\": 62.0}, \"27\": {\"effect\": -1181.4627725127953, \"value\": 67.0}, \"28\": {\"effect\": 477380.16426482564, \"value\": 81.0}, \"29\": {\"effect\": -82317.46302763122, \"value\": 37.0}, \"30\": {\"effect\": -376642.5085167465, \"value\": 26.0}, \"31\": {\"effect\": -27009.891269120784, \"value\": 22.0}, \"32\": {\"effect\": -42774.28423083587, \"value\": 9.0}, \"33\": {\"effect\": -55772.33497466264, \"value\": 10.0}, \"34\": {\"effect\": -16009.945675388197, \"value\": 16.0}, \"35\": {\"effect\": -31177.0915453278, \"value\": 7.0}, \"36\": {\"effect\": -46404.84798736349, \"value\": 15.0}}, \"plot_cmap\": \"RdBu\", \"labelMargin\": 20}),\n",
       "    document.getElementById('iHE3I2U0QNIJ8M8OZX1OX')\n",
       "  );\n",
       "</script>"
      ],
      "text/plain": [
       "<shap.plots._force.AdditiveForceVisualizer at 0x7fe35b6dd400>"
      ]
     },
     "metadata": {},
     "output_type": "display_data"
    }
   ],
   "source": [
    "explainer = shap.TreeExplainer(gbm_default)\n",
    "shap_values = explainer.shap_values(X_train)\n",
    "\n",
    "from IPython.display import display\n",
    "display(shap.force_plot(explainer.expected_value, shap_values[0,:], X_train.iloc[0,:]))"
   ]
  },
  {
   "cell_type": "code",
   "execution_count": null,
   "metadata": {},
   "outputs": [],
   "source": []
  }
 ],
 "metadata": {
  "kernelspec": {
   "display_name": "Python 3",
   "language": "python",
   "name": "python3"
  },
  "language_info": {
   "codemirror_mode": {
    "name": "ipython",
    "version": 3
   },
   "file_extension": ".py",
   "mimetype": "text/x-python",
   "name": "python",
   "nbconvert_exporter": "python",
   "pygments_lexer": "ipython3",
   "version": "3.6.13"
  }
 },
 "nbformat": 4,
 "nbformat_minor": 4
}
