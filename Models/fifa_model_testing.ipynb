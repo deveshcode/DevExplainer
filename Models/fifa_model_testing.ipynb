{
 "cells": [
  {
   "cell_type": "code",
   "execution_count": 1,
   "id": "7385e8c5-30f0-4b09-a312-1062253f0bd3",
   "metadata": {},
   "outputs": [
    {
     "name": "stderr",
     "output_type": "stream",
     "text": [
      "/opt/conda/lib/python3.6/site-packages/requests/__init__.py:91: RequestsDependencyWarning: urllib3 (1.26.5) or chardet (3.0.4) doesn't match a supported version!\n",
      "  RequestsDependencyWarning)\n"
     ]
    },
    {
     "name": "stdout",
     "output_type": "stream",
     "text": [
      "Score output [95456119.80996357]\n"
     ]
    }
   ],
   "source": [
    "from fifa_model_generation import get_fifa_model\n",
    "import numpy as np\n",
    "\n",
    "model = get_fifa_model()\n",
    "\n",
    "def score(model, request):\n",
    "    payload = request.json[\"payload\"]\n",
    "    data_list = payload\n",
    "    data_array = np.asarray(data_list)\n",
    "    try:\n",
    "        prediction = model.predict(data_array)\n",
    "    except:\n",
    "        prediction = model.predict(data_array.reshape(1, -1))\n",
    "    return prediction.tolist()\n",
    "\n",
    "# to verify if score func works\n",
    "import requests\n",
    "req = requests.Request()\n",
    "req.json = {\"payload\":[[32, 170, 72, 88, 95, 70, 92, 88, 97, 93, 94, 92, 96, 91, 84, 93, 95, 95, 86, 68, 75, 68, 94, 48, 40, 94, 94, 75, 96, 33, 37, 26, 6, 11, 15, 14, 8]]}\n",
    "\n",
    "print(\"Score output\", score(model, req))\n"
   ]
  },
  {
   "cell_type": "code",
   "execution_count": 4,
   "id": "d69f4007-a428-4949-9fcf-d4b3dec94c7c",
   "metadata": {},
   "outputs": [],
   "source": []
  },
  {
   "cell_type": "code",
   "execution_count": null,
   "id": "0d517010-23fd-4490-8322-e80eafc3a0e5",
   "metadata": {},
   "outputs": [],
   "source": []
  }
 ],
 "metadata": {
  "kernelspec": {
   "display_name": "Python 3",
   "language": "python",
   "name": "python3"
  },
  "language_info": {
   "codemirror_mode": {
    "name": "ipython",
    "version": 3
   },
   "file_extension": ".py",
   "mimetype": "text/x-python",
   "name": "python",
   "nbconvert_exporter": "python",
   "pygments_lexer": "ipython3",
   "version": "3.6.13"
  }
 },
 "nbformat": 4,
 "nbformat_minor": 5
}
